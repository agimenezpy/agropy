{
 "cells": [
  {
   "cell_type": "code",
   "execution_count": null,
   "metadata": {
    "collapsed": false
   },
   "outputs": [],
   "source": [
    "%%javascript\n",
    "\n",
    "$([IPython.events]).on('kernel_ready.Kernel', function(){\n",
    "    IPython.notebook.execute_cell_range(1, 2)\n",
    "});"
   ]
  },
  {
   "cell_type": "code",
   "execution_count": null,
   "metadata": {
    "collapsed": false
   },
   "outputs": [],
   "source": [
    "import init\n",
    "import os\n",
    "from os import path as pth\n",
    "from climatepy.scenario.maps import draw_base, draw_compare_base\n",
    "from climatepy.scenario.geo import PARAGUAY\n",
    "from proceso import (SHP_DIR, OUTPUT_DIR, ROOT_DIR, \n",
    "                     RCP_85, RCP_85_URL, \n",
    "                     M_RCP_85, M_RCP_85_URL, \n",
    "                     PARAGUAY_SHP_URL, CRU_URL)\n",
    "import logging\n",
    "\n",
    "log = logging.getLogger()\n",
    "    \n",
    "config = pth.join(ROOT_DIR, \"proceso\", \"map_config.ini\")\n",
    "\n",
    "prec_ds_y = RCP_85_URL[0][1]\n",
    "temp_ds_y = RCP_85_URL[1][1]\n",
    "\n",
    "paraguay_shp = PARAGUAY_SHP_URL\n",
    "\n",
    "cru_prec = CRU_URL[0]\n",
    "cru_tmp = CRU_URL[1]\n",
    "\n",
    "BASE_DIR = OUTPUT_DIR\n",
    "OUTPUT_DIR = pth.join(BASE_DIR, \"PARAGUAY\", \"RCP8.5\", \"mapas\")\n",
    "if not pth.exists(OUTPUT_DIR):\n",
    "    os.makedirs(OUTPUT_DIR)\n",
    "\n",
    "prec_ds_y_m = M_RCP_85_URL[0][1]\n",
    "temp_ds_y_m = M_RCP_85_URL[1][1]\n",
    "\n",
    "OUTPUT_DIR2 = pth.join(BASE_DIR, \"PARAGUAY\", \"RCP8.5_Miroc\", \"mapas\")\n",
    "if not pth.exists(OUTPUT_DIR2):\n",
    "    os.makedirs(OUTPUT_DIR2)"
   ]
  },
  {
   "cell_type": "code",
   "execution_count": null,
   "metadata": {
    "collapsed": false
   },
   "outputs": [],
   "source": [
    "# Correr base 1961 - 1990 Precipitacion\n",
    "log.setLevel(logging.DEBUG)\n",
    "/draw_base config pth.join(RCP_85 prec_ds_y) PARAGUAY 1961 1990 \\\n",
    "               pth.join(SHP_DIR paraguay_shp) \"%(NAME_1)s\" \\\n",
    "               OUTPUT_DIR"
   ]
  },
  {
   "cell_type": "code",
   "execution_count": null,
   "metadata": {
    "collapsed": false
   },
   "outputs": [],
   "source": [
    "# Correr base 1961 - 1990 Precipitacion Miroc\n",
    "log.setLevel(logging.DEBUG)\n",
    "/draw_base config pth.join(M_RCP_85 prec_ds_y_m) PARAGUAY 1961 1990 \\\n",
    "               pth.join(SHP_DIR paraguay_shp) \"%(NAME_1)s\" \\\n",
    "               OUTPUT_DIR2"
   ]
  },
  {
   "cell_type": "code",
   "execution_count": null,
   "metadata": {
    "collapsed": false
   },
   "outputs": [],
   "source": [
    "# Correr CRU base 1961 - 1990 Precipitacion\n",
    "log.setLevel(logging.DEBUG)\n",
    "/draw_base config cru_prec PARAGUAY 1961 1990 \\\n",
    "               pth.join(SHP_DIR paraguay_shp) \"%(NAME_1)s\" \\\n",
    "               OUTPUT_DIR pth.join(RCP_85 prec_ds_y)"
   ]
  },
  {
   "cell_type": "code",
   "execution_count": null,
   "metadata": {
    "collapsed": false
   },
   "outputs": [],
   "source": [
    "# Correr Anomalia Precipitacion\n",
    "log.setLevel(logging.DEBUG)\n",
    "/draw_compare_base config cru_prec pth.join(RCP_85 prec_ds_y) PARAGUAY 1961 1990 \\\n",
    "               pth.join(SHP_DIR paraguay_shp) \"%(NAME_1)s\" \\\n",
    "               OUTPUT_DIR"
   ]
  },
  {
   "cell_type": "code",
   "execution_count": null,
   "metadata": {
    "collapsed": false
   },
   "outputs": [],
   "source": [
    "# Correr Anomalia Precipitacion Miroc\n",
    "log.setLevel(logging.DEBUG)\n",
    "/draw_compare_base config cru_prec pth.join(M_RCP_85 prec_ds_y_m) PARAGUAY 1961 1990 \\\n",
    "               pth.join(SHP_DIR paraguay_shp) \"%(NAME_1)s\" \\\n",
    "               OUTPUT_DIR2"
   ]
  },
  {
   "cell_type": "code",
   "execution_count": null,
   "metadata": {
    "collapsed": false
   },
   "outputs": [],
   "source": [
    "# Correr base 1961 - 1990 Temperatura\n",
    "log.setLevel(logging.DEBUG)\n",
    "/draw_base config pth.join(RCP_85 temp_ds_y) PARAGUAY 1961 1990 \\\n",
    "               pth.join(SHP_DIR paraguay_shp) \"%(NAME_1)s\" \\\n",
    "               OUTPUT_DIR"
   ]
  },
  {
   "cell_type": "code",
   "execution_count": null,
   "metadata": {
    "collapsed": false
   },
   "outputs": [],
   "source": [
    "# Correr base 1961 - 1990 Temperatura Miroc\n",
    "log.setLevel(logging.DEBUG)\n",
    "/draw_base config pth.join(M_RCP_85 temp_ds_y_m) PARAGUAY 1961 1990 \\\n",
    "               pth.join(SHP_DIR paraguay_shp) \"%(NAME_1)s\" \\\n",
    "               OUTPUT_DIR2"
   ]
  },
  {
   "cell_type": "code",
   "execution_count": null,
   "metadata": {
    "collapsed": false
   },
   "outputs": [],
   "source": [
    "# Correr CRU base 1961 - 1990 Temperatura\n",
    "log.setLevel(logging.DEBUG)\n",
    "/draw_base config cru_tmp PARAGUAY 1961 1990 \\\n",
    "               pth.join(SHP_DIR paraguay_shp) \"%(NAME_1)s\" \\\n",
    "               OUTPUT_DIR pth.join(RCP_85 temp_ds_y)"
   ]
  },
  {
   "cell_type": "code",
   "execution_count": null,
   "metadata": {
    "collapsed": false
   },
   "outputs": [],
   "source": [
    "# Correr Anomalia Temperatura\n",
    "log.setLevel(logging.DEBUG)\n",
    "/draw_compare_base config cru_tmp pth.join(RCP_85 temp_ds_y) PARAGUAY 1961 1990 \\\n",
    "               pth.join(SHP_DIR paraguay_shp) \"%(NAME_1)s\" \\\n",
    "               OUTPUT_DIR"
   ]
  },
  {
   "cell_type": "code",
   "execution_count": null,
   "metadata": {
    "collapsed": false
   },
   "outputs": [],
   "source": [
    "# Correr Anomalia Temperatura Miroc\n",
    "log.setLevel(logging.DEBUG)\n",
    "/draw_compare_base config cru_tmp pth.join(M_RCP_85 temp_ds_y_m) PARAGUAY 1961 1990 \\\n",
    "               pth.join(SHP_DIR paraguay_shp) \"%(NAME_1)s\" \\\n",
    "               OUTPUT_DIR2"
   ]
  }
 ],
 "metadata": {
  "kernelspec": {
   "display_name": "Python 2",
   "language": "python",
   "name": "python2"
  },
  "language_info": {
   "codemirror_mode": {
    "name": "ipython",
    "version": 2
   },
   "file_extension": ".py",
   "mimetype": "text/x-python",
   "name": "python",
   "nbconvert_exporter": "python",
   "pygments_lexer": "ipython2",
   "version": "2.7.11"
  }
 },
 "nbformat": 4,
 "nbformat_minor": 0
}
