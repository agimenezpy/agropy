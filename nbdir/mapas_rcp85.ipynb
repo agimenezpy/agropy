{
 "cells": [
  {
   "cell_type": "code",
   "execution_count": null,
   "metadata": {
    "collapsed": false
   },
   "outputs": [],
   "source": [
    "%%javascript\n",
    "\n",
    "$([IPython.events]).on('kernel_ready.Kernel', function(){\n",
    "    IPython.notebook.execute_cell_range(1, 2)\n",
    "});"
   ]
  },
  {
   "cell_type": "code",
   "execution_count": null,
   "metadata": {
    "collapsed": false
   },
   "outputs": [],
   "source": [
    "import init\n",
    "import os\n",
    "from os import path as pth\n",
    "from climatepy.scenario.maps import draw_base, draw_compare_base\n",
    "from climatepy.scenario.geo import PARAGUAY\n",
    "from proceso import SHP_DIR, OUTPUT_DIR, ROOT_DIR, RCP_85, RCP_85_URL, PARAGUAY_SHP_URL, CRU_URL\n",
    "import logging\n",
    "\n",
    "log = logging.getLogger()\n",
    "    \n",
    "config = pth.join(ROOT_DIR, \"proceso\", \"map_config.ini\")\n",
    "prec_ds_y = RCP_85_URL[0][1]\n",
    "temp_ds_y = RCP_85_URL[1][1]\n",
    "paraguay_shp = PARAGUAY_SHP_URL\n",
    "cru_prec = CRU_URL[0]\n",
    "cru_tmp = CRU_URL[1]\n",
    "\n",
    "OUTPUT_DIR = pth.join(OUTPUT_DIR, \"RCP8.5\", \"mapas\")\n",
    "OUTPUT_CMP = pth.join(OUTPUT_DIR, \"comparacion\")\n",
    "if not pth.exists(OUTPUT_DIR):\n",
    "    os.makedirs(OUTPUT_DIR)\n",
    "\n",
    "if not pth.exists(OUTPUT_CMP):\n",
    "    os.makedirs(OUTPUT_CMP)"
   ]
  },
  {
   "cell_type": "code",
   "execution_count": null,
   "metadata": {
    "collapsed": false
   },
   "outputs": [],
   "source": [
    "# Correr base 1961 - 1990 Precipitacion\n",
    "log.setLevel(logging.DEBUG)\n",
    "/draw_base config pth.join(RCP_85 prec_ds_y) PARAGUAY 1961 1990 \\\n",
    "               pth.join(SHP_DIR paraguay_shp) \"Paraguay\" \\\n",
    "               OUTPUT_DIR"
   ]
  },
  {
   "cell_type": "code",
   "execution_count": null,
   "metadata": {
    "collapsed": false
   },
   "outputs": [],
   "source": [
    "# Correr CRU base 1961 - 1990 Precipitacion\n",
    "log.setLevel(logging.DEBUG)\n",
    "/draw_base config cru_prec PARAGUAY 1961 1990 \\\n",
    "               pth.join(SHP_DIR paraguay_shp) \"Paraguay\" \\\n",
    "               OUTPUT_DIR pth.join(RCP_85 prec_ds_y)"
   ]
  },
  {
   "cell_type": "code",
   "execution_count": null,
   "metadata": {
    "collapsed": false
   },
   "outputs": [],
   "source": [
    "# Correr Anomalia Precipitacion\n",
    "log.setLevel(logging.DEBUG)\n",
    "/draw_compare_base config cru_prec pth.join(RCP_85 prec_ds_y) PARAGUAY 1961 1990 \\\n",
    "               pth.join(SHP_DIR paraguay_shp) \"Paraguay\" \\\n",
    "               OUTPUT_CMP"
   ]
  },
  {
   "cell_type": "code",
   "execution_count": null,
   "metadata": {
    "collapsed": false
   },
   "outputs": [],
   "source": [
    "# Correr base 1961 - 1990 Temperatura\n",
    "log.setLevel(logging.DEBUG)\n",
    "/draw_base config pth.join(RCP_85 temp_ds_y) PARAGUAY 1961 1990 \\\n",
    "               pth.join(SHP_DIR paraguay_shp) \"Paraguay\" \\\n",
    "               OUTPUT_DIR"
   ]
  },
  {
   "cell_type": "code",
   "execution_count": null,
   "metadata": {
    "collapsed": false
   },
   "outputs": [],
   "source": [
    "# Correr CRU base 1961 - 1990 Temperatura\n",
    "log.setLevel(logging.DEBUG)\n",
    "/draw_base config cru_tmp PARAGUAY 1961 1990 \\\n",
    "               pth.join(SHP_DIR paraguay_shp) \"Paraguay\" \\\n",
    "               OUTPUT_DIR pth.join(RCP_85 temp_ds_y)"
   ]
  },
  {
   "cell_type": "code",
   "execution_count": null,
   "metadata": {
    "collapsed": false
   },
   "outputs": [],
   "source": [
    "# Correr Anomalia Temperatura\n",
    "log.setLevel(logging.DEBUG)\n",
    "/draw_compare_base config cru_tmp pth.join(RCP_85 temp_ds_y) PARAGUAY 1961 1990 \\\n",
    "               pth.join(SHP_DIR paraguay_shp) \"Paraguay\" \\\n",
    "               OUTPUT_CMP"
   ]
  }
 ],
 "metadata": {
  "kernelspec": {
   "display_name": "Python 2",
   "language": "python",
   "name": "python2"
  },
  "language_info": {
   "codemirror_mode": {
    "name": "ipython",
    "version": 2
   },
   "file_extension": ".py",
   "mimetype": "text/x-python",
   "name": "python",
   "nbconvert_exporter": "python",
   "pygments_lexer": "ipython2",
   "version": "2.7.11"
  }
 },
 "nbformat": 4,
 "nbformat_minor": 0
}
