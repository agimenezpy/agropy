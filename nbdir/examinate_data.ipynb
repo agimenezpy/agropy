{
 "cells": [
  {
   "cell_type": "code",
   "execution_count": 1,
   "metadata": {
    "collapsed": false
   },
   "outputs": [
    {
     "name": "stdout",
     "output_type": "stream",
     "text": [
      "Python 2.7.11 |Continuum Analytics, Inc.| (default, Jun 15 2016, 15:38:08) [MSC v.1500 32 bit (Intel)] on win32\n"
     ]
    }
   ],
   "source": [
    "import init\n",
    "from climatepy.scenario.export_xls import get_dataframe, get_column_names\n",
    "from proceso import OUTPUT_DIR, SHP_DIR, PARAGUAY_SHP_URL\n",
    "from os import path as pth\n",
    "import pandas as pd\n",
    "%matplotlib inline\n",
    "\n",
    "DATA_DIR = pth.join(OUTPUT_DIR, \"PARAGUAY\")\n",
    "DATA_DIR4 = pth.join(DATA_DIR, \"RCP4.5\")\n",
    "DATA_DIR8 = pth.join(DATA_DIR, \"RCP8.5\")\n",
    "paraguay_shp = \"Mapas Generales/Division-Adminsitrativa-Nueva/Paraguay_Division_Administrativa/PRY_adm2_dgeec.shp\""
   ]
  },
  {
   "cell_type": "code",
   "execution_count": null,
   "metadata": {
    "collapsed": false
   },
   "outputs": [],
   "source": [
    "source_data = DATA_DIR4 + \"/anual_prec_py_dist.csv\"\n",
    "\n",
    "print get_column_names(pth.join(SHP_DIR, paraguay_shp), \"%(CODIGO)s\", \"%(DPTO_DESC)s - %(DIST_DESC)s\")\n",
    "\n",
    "/get_dataframe source_data \\\n",
    "               pth.join(SHP_DIR paraguay_shp) \\\n",
    "               \"%(CODIGO)s\" \"%(DPTO_DESC)s %(DIST_DESC)s\" \n",
    "                      \n"
   ]
  },
  {
   "cell_type": "code",
   "execution_count": null,
   "metadata": {
    "collapsed": false
   },
   "outputs": [],
   "source": [
    "source_data = DATA_DIR4 + \"/anual_prec_py.csv\"\n",
    "#print get_column_names(pth.join(SHP_DIR, paraguay_shp), \"%(CODIGO)s\", \"%(DPTO_DESC)s - %(DIST_DESC)s\")\n",
    "\n",
    "df = get_dataframe(source_data, pth.join(SHP_DIR,PARAGUAY_SHP_URL), \"%(HASC_1)s\", \"%(NAME_1)s\")\n",
    "\n"
   ]
  },
  {
   "cell_type": "code",
   "execution_count": null,
   "metadata": {
    "collapsed": false
   },
   "outputs": [],
   "source": [
    "df.loc[2011:2050,\"Alto Paraguay\"].plot()"
   ]
  },
  {
   "cell_type": "code",
   "execution_count": 18,
   "metadata": {
    "collapsed": false
   },
   "outputs": [
    {
     "data": {
      "text/plain": [
       "<matplotlib.axes._subplots.AxesSubplot at 0x114bbe30>"
      ]
     },
     "execution_count": 18,
     "metadata": {},
     "output_type": "execute_result"
    },
    {
     "data": {
      "image/png": "[encoded data removed]",
      "text/plain": [
       "<matplotlib.figure.Figure at 0x115031f0>"
      ]
     },
     "metadata": {},
     "output_type": "display_data"
    }
   ],
   "source": [
    "cru_data = pd.read_excel(DATA_DIR + \"/mensual_cru_py.xlsx\", index_col=0, header=0, parse_dates=True, sheetname=\"TMP\")\n",
    "cru_data.iloc[2,:].plot()"
   ]
  },
  {
   "cell_type": "code",
   "execution_count": null,
   "metadata": {
    "collapsed": true
   },
   "outputs": [],
   "source": []
  }
 ],
 "metadata": {
  "kernelspec": {
   "display_name": "Python 2",
   "language": "python",
   "name": "python2"
  },
  "language_info": {
   "codemirror_mode": {
    "name": "ipython",
    "version": 2
   },
   "file_extension": ".py",
   "mimetype": "text/x-python",
   "name": "python",
   "nbconvert_exporter": "python",
   "pygments_lexer": "ipython2",
   "version": "2.7.11"
  }
 },
 "nbformat": 4,
 "nbformat_minor": 0
}
