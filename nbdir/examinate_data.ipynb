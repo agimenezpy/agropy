{
 "cells": [
  {
   "cell_type": "code",
   "execution_count": null,
   "metadata": {
    "collapsed": false
   },
   "outputs": [],
   "source": [
    "import init\n",
    "from climatepy.scenario.export_xls import get_dataframe, get_column_names\n",
    "from proceso import OUTPUT_DIR, SHP_DIR\n",
    "from os import path as pth\n",
    "\n",
    "DATA_DIR4 = OUTPUT_DIR + \"/RCP4.5\"\n",
    "DATA_DIR8 = OUTPUT_DIR + \"/RCP8.5\"\n",
    "paraguay_shp = \"Mapas Generales/Division-Adminsitrativa-Nueva/Paraguay_Division_Administrativa/PRY_adm2_dgeec.shp\""
   ]
  },
  {
   "cell_type": "code",
   "execution_count": null,
   "metadata": {
    "collapsed": false
   },
   "outputs": [],
   "source": [
    "source_data = DATA_DIR4 + \"/anual_prec_py_dist.csv\"\n",
    "\n",
    "print get_column_names(pth.join(SHP_DIR, paraguay_shp), [\"0000\"], \"%(CODIGO)s\", \"%(DPTO_DESC)s - %(DIST_DESC)s\")\n",
    "\n",
    "/get_dataframe \"%(CODIGO)s\" \"%(DPTO_DESC)s %(DIST_DESC)s\" \\\n",
    "                      source_data \\\n",
    "                      pth.join(SHP_DIR paraguay_shp) \\\n"
   ]
  }
 ],
 "metadata": {
  "kernelspec": {
   "display_name": "Python 2",
   "language": "python",
   "name": "python2"
  },
  "language_info": {
   "codemirror_mode": {
    "name": "ipython",
    "version": 2
   },
   "file_extension": ".py",
   "mimetype": "text/x-python",
   "name": "python",
   "nbconvert_exporter": "python",
   "pygments_lexer": "ipython2",
   "version": "2.7.11"
  }
 },
 "nbformat": 4,
 "nbformat_minor": 0
}
