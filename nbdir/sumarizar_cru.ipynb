{
 "cells": [
  {
   "cell_type": "code",
   "execution_count": null,
   "metadata": {
    "collapsed": false
   },
   "outputs": [],
   "source": [
    "import init\n",
    "from six import print_\n",
    "from proceso import CRU_DIR, CRU_XLS, OUTPUT_DIR\n",
    "from os import path as pth\n",
    "import logging\n",
    "import sys\n",
    "import pandas as pd\n",
    "\n",
    "log = logging.getLogger()\n",
    "log.handlers.append(logging.StreamHandler(stream=sys.__stdout__))\n",
    "log.setLevel(logging.INFO)\n",
    "\n",
    "CRU_FILE = pth.join(CRU_DIR, CRU_XLS)\n",
    "OUTPUT_CRU = pth.join(OUTPUT_DIR, \"PARAGUAY\")"
   ]
  },
  {
   "cell_type": "code",
   "execution_count": null,
   "metadata": {
    "collapsed": false
   },
   "outputs": [],
   "source": [
    "data = pd.read_excel(CRU_FILE, index_col=0, header=0, parse_dates=True)\n",
    "grp = data.groupby('DPTO_DESC')"
   ]
  },
  {
   "cell_type": "code",
   "execution_count": null,
   "metadata": {
    "collapsed": false
   },
   "outputs": [],
   "source": [
    "data.iloc[:,4:]"
   ]
  }
 ],
 "metadata": {
  "kernelspec": {
   "display_name": "Python 2",
   "language": "python",
   "name": "python2"
  },
  "language_info": {
   "codemirror_mode": {
    "name": "ipython",
    "version": 2
   },
   "file_extension": ".py",
   "mimetype": "text/x-python",
   "name": "python",
   "nbconvert_exporter": "python",
   "pygments_lexer": "ipython2",
   "version": "2.7.11"
  }
 },
 "nbformat": 4,
 "nbformat_minor": 0
}
