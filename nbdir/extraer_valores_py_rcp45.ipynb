{
 "cells": [
  {
   "cell_type": "code",
   "execution_count": null,
   "metadata": {
    "collapsed": false
   },
   "outputs": [],
   "source": [
    "%%javascript\n",
    "\n",
    "$([IPython.events]).on('kernel_ready.Kernel', function(){\n",
    "    IPython.notebook.execute_cell_range(1, 2)\n",
    "});"
   ]
  },
  {
   "cell_type": "code",
   "execution_count": null,
   "metadata": {
    "collapsed": false
   },
   "outputs": [],
   "source": [
    "import init\n",
    "import os\n",
    "import logging\n",
    "import sys\n",
    "from climatepy.scenario.export_csv import export_to\n",
    "from climatepy.util.shapes import create_masks\n",
    "from climatepy.scenario.export_xls import create_montly_xls, create_yearly_xls\n",
    "from climatepy.scenario.geo import PARAGUAY\n",
    "from proceso import SHP_DIR, OUTPUT_DIR, RCP_45\n",
    "\n",
    "from os import path as pth\n",
    "\n",
    "log = logging.getLogger()\n",
    "\n",
    "prec_ds = \"Mensual/Prec/Eta_HG2ES_RCP45_20km_Prec_Mensual_template.ctl\"\n",
    "prec_ds_y = \"Anual/Prec/Eta_HG2ES_RCP45_20km_Prec_Anual_template.ctl\"\n",
    "temp_ds = \"Mensual/Temp/Eta_HG2ES_RCP45_20km_Temp_Mensual_template.ctl\"\n",
    "temp_ds_y = \"Anual/Temp/Eta_HG2ES_RCP45_20km_Temp_Anual_template.ctl\"\n",
    "paraguay_shp = \"Mapas Generales/Division-Adminsitrativa-Nueva/Paraguay_Division_Administrativa/PRY_adm1.shp\"\n",
    "paraguay2_shp = \"Mapas Generales/Division-Adminsitrativa-Nueva/Paraguay_Division_Administrativa/PRY_adm2_dgeec.shp\"\n",
    "OUTPUT_DIR = OUTPUT_DIR + \"/RCP4.5\"\n",
    "if not pth.exists(OUTPUT_DIR):\n",
    "    os.mkdir(OUTPUT_DIR)"
   ]
  },
  {
   "cell_type": "code",
   "execution_count": null,
   "metadata": {
    "collapsed": false
   },
   "outputs": [],
   "source": [
    "# Crear mascaras Paraguay\n",
    "log.setLevel(logging.DEBUG)\n",
    "/create_masks pth.join(RCP_45 prec_ds) \\\n",
    "              pth.join(SHP_DIR paraguay_shp) \\\n",
    "              PARAGUAY \"%(HASC_1)s\" 0.2\n"
   ]
  },
  {
   "cell_type": "code",
   "execution_count": null,
   "metadata": {
    "collapsed": false
   },
   "outputs": [],
   "source": [
    "# Exportar mensual precipitacion\n",
    "# mm/mes\n",
    "log.setLevel(logging.INFO)\n",
    "/export_to pth.join(RCP_45 prec_ds) \\\n",
    "           pth.join(SHP_DIR paraguay_shp)  \\\n",
    "           pth.join(OUTPUT_DIR \"mensual_prec_py.csv\")  \\\n",
    "           \"prec\" 2050 PARAGUAY \"%(HASC_1)s\" 0.2"
   ]
  },
  {
   "cell_type": "code",
   "execution_count": null,
   "metadata": {
    "collapsed": false
   },
   "outputs": [],
   "source": [
    "# Exportar anual precipitacion\n",
    "# A mm/año\n",
    "log.setLevel(logging.INFO)\n",
    "/export_to pth.join(RCP_45 prec_ds_y) \\\n",
    "           pth.join(SHP_DIR paraguay_shp)  \\\n",
    "           pth.join(OUTPUT_DIR \"anual_prec_py.csv\")  \\\n",
    "           \"prec\" 2050 PARAGUAY \"%(HASC_1)s\" 0.2 12"
   ]
  },
  {
   "cell_type": "code",
   "execution_count": null,
   "metadata": {
    "collapsed": false
   },
   "outputs": [],
   "source": [
    "# Exportar mensual temperatura\n",
    "log.setLevel(logging.INFO)\n",
    "/export_to pth.join(RCP_45 temp_ds) \\\n",
    "           pth.join(SHP_DIR paraguay_shp)  \\\n",
    "           pth.join(OUTPUT_DIR \"mensual_temp_py.csv\")  \\\n",
    "           \"tp2m\" 2050 PARAGUAY \"%(HASC_1)s\" 0.2"
   ]
  },
  {
   "cell_type": "code",
   "execution_count": null,
   "metadata": {
    "collapsed": false
   },
   "outputs": [],
   "source": [
    "# Exportar anual temperatura\n",
    "log.setLevel(logging.INFO)\n",
    "/export_to pth.join(RCP_45 temp_ds_y) \\\n",
    "           pth.join(SHP_DIR paraguay_shp)  \\\n",
    "           pth.join(OUTPUT_DIR \"anual_temp_py.csv\")  \\\n",
    "           \"tp2m\" 2050 PARAGUAY \"%(HASC_1)s\" 0.2 "
   ]
  },
  {
   "cell_type": "code",
   "execution_count": null,
   "metadata": {
    "collapsed": false
   },
   "outputs": [],
   "source": [
    "log.setLevel(logging.INFO)\n",
    "/create_montly_xls pth.join(OUTPUT_DIR \"mensual_prec_py.csv\") \\\n",
    "                   pth.join(SHP_DIR paraguay_shp) \\\n",
    "                   OUTPUT_DIR \"%(HASC_1)s\" \"%(NAME_1)s\" \n",
    "/create_montly_xls pth.join(OUTPUT_DIR \"mensual_temp_py.csv\") \\\n",
    "                   pth.join(SHP_DIR paraguay_shp) \\\n",
    "                   OUTPUT_DIR \"%(HASC_1)s\" \"%(NAME_1)s\" "
   ]
  },
  {
   "cell_type": "code",
   "execution_count": null,
   "metadata": {
    "collapsed": false
   },
   "outputs": [],
   "source": [
    "log.setLevel(logging.INFO)\n",
    "/create_yearly_xls pth.join(OUTPUT_DIR \"anual_prec_py.csv\") \\\n",
    "                   pth.join(SHP_DIR paraguay_shp) \\\n",
    "                   OUTPUT_DIR \"%(HASC_1)s\" \"%(NAME_1)s\" \n",
    "/create_yearly_xls pth.join(OUTPUT_DIR \"anual_temp_py.csv\") \\\n",
    "                   pth.join(SHP_DIR paraguay_shp) \\\n",
    "                   OUTPUT_DIR \"%(HASC_1)s\" \"%(NAME_1)s\" "
   ]
  },
  {
   "cell_type": "code",
   "execution_count": null,
   "metadata": {
    "collapsed": true
   },
   "outputs": [],
   "source": []
  }
 ],
 "metadata": {
  "kernelspec": {
   "display_name": "Python 2",
   "language": "python",
   "name": "python2"
  },
  "language_info": {
   "codemirror_mode": {
    "name": "ipython",
    "version": 2
   },
   "file_extension": ".py",
   "mimetype": "text/x-python",
   "name": "python",
   "nbconvert_exporter": "python",
   "pygments_lexer": "ipython2",
   "version": "2.7.11"
  }
 },
 "nbformat": 4,
 "nbformat_minor": 0
}
