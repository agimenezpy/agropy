{
 "cells": [
  {
   "cell_type": "code",
   "execution_count": null,
   "metadata": {
    "collapsed": false
   },
   "outputs": [],
   "source": [
    "%%javascript\n",
    "\n",
    "$([IPython.events]).on('kernel_ready.Kernel', function(){\n",
    "    IPython.notebook.execute_cell_range(1, 2)\n",
    "});"
   ]
  },
  {
   "cell_type": "code",
   "execution_count": null,
   "metadata": {
    "collapsed": false
   },
   "outputs": [],
   "source": [
    "import init\n",
    "import os\n",
    "from os import path as pth\n",
    "from climatepy.scenario.maps import draw_steps_years\n",
    "from climatepy.scenario.geo import PARAGUAY\n",
    "from climatepy.scenario import REMOTE_URL\n",
    "from proceso import SHP_DIR, OUTPUT_DIR, ROOT_DIR, RCP_45, RCP_45_URL, PARAGUAY_SHP_URL\n",
    "import logging\n",
    "\n",
    "log = logging.getLogger()\n",
    "\n",
    "config = pth.join(ROOT_DIR, \"proceso\", \"map_config.ini\")\n",
    "prec_ds_y = RCP_45_URL[0][1]\n",
    "temp_ds_y =  RCP_45_URL[1][1] \n",
    "paraguay_shp = PARAGUAY_SHP_URL\n",
    "\n",
    "OUTPUT_5YR = pth.join(OUTPUT_DIR, \"RCP45\", \"mapas\", \"5yr\")\n",
    "if not pth.exists(OUTPUT_5YR):\n",
    "    os.makedirs(OUTPUT_5YR)"
   ]
  },
  {
   "cell_type": "code",
   "execution_count": null,
   "metadata": {
    "collapsed": false
   },
   "outputs": [],
   "source": [
    "# Correr cada 10 años 2011 - 2050 Precipitacion\n",
    "log.setLevel(logging.DEBUG)\n",
    "/draw_steps_years config pth.join(RCP_45 prec_ds_y) PARAGUAY 2011 2050 \\\n",
    "               pth.join(SHP_DIR paraguay_shp) \"Paraguay\" \\\n",
    "               OUTPUT_5YR 5"
   ]
  },
  {
   "cell_type": "code",
   "execution_count": null,
   "metadata": {
    "collapsed": false
   },
   "outputs": [],
   "source": [
    "# Correr cada 10 años 2011 - 2050 Temperatura\n",
    "log.setLevel(logging.DEBUG)\n",
    "/draw_steps_years config pth.join(RCP_45 temp_ds_y) PARAGUAY 2011 2050 \\\n",
    "               pth.join(SHP_DIR paraguay_shp) \"Paraguay\" \\\n",
    "               OUTPUT_5YR 5"
   ]
  }
 ],
 "metadata": {
  "kernelspec": {
   "display_name": "Python 2",
   "language": "python",
   "name": "python2"
  },
  "language_info": {
   "codemirror_mode": {
    "name": "ipython",
    "version": 2
   },
   "file_extension": ".py",
   "mimetype": "text/x-python",
   "name": "python",
   "nbconvert_exporter": "python",
   "pygments_lexer": "ipython2",
   "version": "2.7.11"
  }
 },
 "nbformat": 4,
 "nbformat_minor": 0
}
