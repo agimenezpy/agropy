{
 "cells": [
  {
   "cell_type": "code",
   "execution_count": null,
   "metadata": {
    "collapsed": false
   },
   "outputs": [],
   "source": [
    "import init\n",
    "import os\n",
    "import logging\n",
    "import sys\n",
    "from climatepy.scenario.export_csv import export_to\n",
    "from climatepy.util.shapes import create_masks\n",
    "from climatepy.scenario.export_xls import create_montly_xls, create_yearly_xls\n",
    "from climatepy.scenario.geo import GRAN_CHACO\n",
    "from proceso import SHP_DIR, OUTPUT_DIR, RCP_45\n",
    "\n",
    "from os import path as pth\n",
    "\n",
    "log = logging.getLogger()\n",
    "\n",
    "prec_ds = \"Mensual/Prec/Eta_HG2ES_RCP45_20km_Prec_Mensual_template.ctl\"\n",
    "prec_ds_y = \"Anual/Prec/Eta_HG2ES_RCP45_20km_Prec_Anual_template.ctl\"\n",
    "temp_ds = \"Mensual/Temp/Eta_HG2ES_RCP45_20km_Temp_Mensual_template.ctl\"\n",
    "temp_ds_y = \"Anual/Temp/Eta_HG2ES_RCP45_20km_Temp_Anual_template.ctl\"\n",
    "gran_chaco_shp = \"Mapas Generales/Departamentos_y_Provincias_del_Gran_Chaco.shp\""
   ]
  },
  {
   "cell_type": "code",
   "execution_count": null,
   "metadata": {
    "collapsed": false
   },
   "outputs": [],
   "source": [
    "# Crear mascaras GranChaco\n",
    "log.setLevel(logging.DEBUG)\n",
    "/create_masks pth.join(RCP_45 prec_ds) \\\n",
    "           pth.join(SHP_DIR gran_chaco_shp)  \\\n",
    "           GRAN_CHACO \"%(FIPS_ADMIN)s\" 0.2"
   ]
  },
  {
   "cell_type": "code",
   "execution_count": null,
   "metadata": {
    "collapsed": false
   },
   "outputs": [],
   "source": [
    "# Exportar mensual precipitacion\n",
    "log.setLevel(logging.INFO)\n",
    "/export_to pth.join(RCP_45 prec_ds) \\\n",
    "           pth.join(SHP_DIR gran_chaco_shp)  \\\n",
    "           pth.join(OUTPUT_DIR \"mensual_prec_gcha.csv\")  \\\n",
    "           \"prec\" 2050 GRAN_CHACO \"%(FIPS_ADMIN)s\" 0.2"
   ]
  },
  {
   "cell_type": "code",
   "execution_count": null,
   "metadata": {
    "collapsed": false
   },
   "outputs": [],
   "source": [
    "# Exportar anual precipitacion\n",
    "log.setLevel(logging.INFO)\n",
    "/export_to pth.join(RCP_45 prec_ds_y) \\\n",
    "           pth.join(SHP_DIR gran_chaco_shp)  \\\n",
    "           pth.join(OUTPUT_DIR \"anual_prec_gcha.csv\")  \\\n",
    "           \"prec\" 2050 GRAN_CHACO \"%(FIPS_ADMIN)s\" 0.2"
   ]
  },
  {
   "cell_type": "code",
   "execution_count": null,
   "metadata": {
    "collapsed": false
   },
   "outputs": [],
   "source": [
    "# Exportar mensual temperatura\n",
    "log.setLevel(logging.INFO)\n",
    "/export_to pth.join(RCP_45 temp_ds) \\\n",
    "           pth.join(SHP_DIR gran_chaco_shp)  \\\n",
    "           pth.join(OUTPUT_DIR \"mensual_temp_gcha.csv\")  \\\n",
    "           \"tp2m\" 2050 GRAN_CHACO \"%(FIPS_ADMIN)s\" 0.2"
   ]
  },
  {
   "cell_type": "code",
   "execution_count": null,
   "metadata": {
    "collapsed": false
   },
   "outputs": [],
   "source": [
    "# Exportar mensual temperatura\n",
    "log.setLevel(logging.INFO)\n",
    "/export_to pth.join(RCP_45 temp_ds_y) \\\n",
    "           pth.join(SHP_DIR gran_chaco_shp)  \\\n",
    "           pth.join(OUTPUT_DIR \"anual_temp_gcha.csv\")  \\\n",
    "           \"tp2m\" 2050 GRAN_CHACO \"%(FIPS_ADMIN)s\" 0.2"
   ]
  },
  {
   "cell_type": "code",
   "execution_count": null,
   "metadata": {
    "collapsed": false
   },
   "outputs": [],
   "source": [
    "log.setLevel(logging.INFO)\n",
    "/create_montly_xls pth.join(OUTPUT_DIR \"mensual_prec_gcha.csv\") \\\n",
    "                   pth.join(SHP_DIR gran_chaco_shp) \\\n",
    "                   OUTPUT_DIR \"%(FIPS_ADMIN)s\" \"%(FIPS_CNTRY)s %(ADMIN_NAME)s\"\n",
    "/create_montly_xls pth.join(OUTPUT_DIR \"mensual_temp_gcha.csv\") \\\n",
    "                   pth.join(SHP_DIR gran_chaco_shp) \\\n",
    "                   OUTPUT_DIR \"%(FIPS_ADMIN)s\" \"%(FIPS_CNTRY)s %(ADMIN_NAME)s\""
   ]
  },
  {
   "cell_type": "code",
   "execution_count": null,
   "metadata": {
    "collapsed": false
   },
   "outputs": [],
   "source": [
    "log.setLevel(logging.INFO)\n",
    "/create_yearly_xls pth.join(OUTPUT_DIR \"anual_prec_gcha.csv\") \\\n",
    "                   pth.join(SHP_DIR gran_chaco_shp) \\\n",
    "                   OUTPUT_DIR \"%(FIPS_ADMIN)s\" \"%(FIPS_CNTRY)s %(ADMIN_NAME)s\" \n",
    "/create_yearly_xls pth.join(OUTPUT_DIR \"anual_temp_gcha.csv\") \\\n",
    "                   pth.join(SHP_DIR gran_chaco_shp) \\\n",
    "                   OUTPUT_DIR \"%(FIPS_ADMIN)s\" \"%(FIPS_CNTRY)s %(ADMIN_NAME)s\""
   ]
  }
 ],
 "metadata": {
  "kernelspec": {
   "display_name": "Python 2",
   "language": "python",
   "name": "python2"
  },
  "language_info": {
   "codemirror_mode": {
    "name": "ipython",
    "version": 2.0
   },
   "file_extension": ".py",
   "mimetype": "text/x-python",
   "name": "python",
   "nbconvert_exporter": "python",
   "pygments_lexer": "ipython2",
   "version": "2.7.11"
  }
 },
 "nbformat": 4,
 "nbformat_minor": 0
}