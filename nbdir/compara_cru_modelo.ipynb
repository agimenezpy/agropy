{
 "cells": [
  {
   "cell_type": "code",
   "execution_count": null,
   "metadata": {
    "collapsed": false
   },
   "outputs": [],
   "source": [
    "import init\n",
    "from six import print_\n",
    "from proceso import OUTPUT_DIR, ROOT_DIR, SHP_DIR, PARAGUAY_SHP_URL\n",
    "import os\n",
    "from os import path as pth\n",
    "import logging\n",
    "import sys\n",
    "import pandas as pd\n",
    "from climatepy.scenario.graph import draw_bar_xls\n",
    "\n",
    "log = logging.getLogger()\n",
    "log.handlers.append(logging.StreamHandler(stream=sys.__stdout__))\n",
    "log.setLevel(logging.INFO)\n",
    "\n",
    "DATA_DIR = pth.join(OUTPUT_DIR, \"PARAGUAY\")\n",
    "RCP_FILE = [\n",
    "    pth.join(DATA_DIR, \"RCP4.5\", \"mensual_prec_py.xlsx\"),\n",
    "    pth.join(DATA_DIR, \"RCP4.5\", \"mensual_temp_py.xlsx\"),\n",
    "    pth.join(DATA_DIR, \"RCP8.5\", \"mensual_prec_py.xlsx\"),\n",
    "    pth.join(DATA_DIR, \"RCP8.5\", \"mensual_temp_py.xlsx\")\n",
    "    ]\n",
    "CRU_FILE = pth.join(DATA_DIR, \"mensual_cru_py.xlsx\")\n",
    "ETA_FILE = pth.join(DATA_DIR, \"mensual_eta_py.xlsx\")\n",
    "config = pth.join(ROOT_DIR, \"proceso\", \"line_config.ini\")\n",
    "\n",
    "OUTPUT_BAR = pth.join(DATA_DIR, \"compara\")\n",
    "if not pth.exists(OUTPUT_BAR):\n",
    "    os.makedirs(OUTPUT_BAR)"
   ]
  },
  {
   "cell_type": "code",
   "execution_count": null,
   "metadata": {
    "collapsed": false
   },
   "outputs": [],
   "source": [
    "eta_pre_ds = pd.read_excel(RCP_FILE[0], index_col=0, header=0, parse_dates=True, sheetname=\"1961_1990\")\n",
    "eta_tmp_ds = pd.read_excel(RCP_FILE[1], index_col=0, header=0, parse_dates=True, sheetname=\"1961_1990\")\n",
    "cru_pre_ds = pd.read_excel(CRU_FILE, index_col=0, header=0, parse_dates=True, sheetname=\"PRE\")\n",
    "cru_tmp_ds = pd.read_excel(CRU_FILE, index_col=0, header=0, parse_dates=True, sheetname=\"TMP\")\n",
    "\n",
    "deps = ~eta_pre_ds.columns.isin((u\"Asunción\",))\n",
    "meses = cru_pre_ds.columns\n",
    "eta_pre_ds = eta_pre_ds.iloc[:,deps]\n",
    "eta_tmp_ds = eta_tmp_ds.iloc[:,deps]\n",
    "\n",
    "eta_pre_ave = pd.DataFrame(index=cru_pre_ds.index, columns=meses)\n",
    "eta_tmp_ave = pd.DataFrame(index=cru_pre_ds.index, columns=meses)"
   ]
  },
  {
   "cell_type": "code",
   "execution_count": null,
   "metadata": {
    "collapsed": false
   },
   "outputs": [],
   "source": [
    "# Calcular meses\n",
    "def get_by_month(m, index): \n",
    "    return index.isin([dt for dt in index if dt.month == m])\n",
    "\n",
    "for idx, mes in enumerate(meses):\n",
    "    eta_pre_ave.values[:,idx] = eta_pre_ds.iloc[get_by_month(idx+1, eta_pre_ds.index),:].mean().T\n",
    "    eta_tmp_ave.values[:,idx] = eta_tmp_ds.iloc[get_by_month(idx+1, eta_tmp_ds.index),:].mean().T\n",
    "\n",
    "with pd.ExcelWriter(ETA_FILE) as writer:\n",
    "    eta_pre_ave.to_excel(writer, sheet_name=\"PREC\")\n",
    "    eta_tmp_ave.to_excel(writer, sheet_name=\"TP2M\")"
   ]
  },
  {
   "cell_type": "code",
   "execution_count": null,
   "metadata": {
    "collapsed": false
   },
   "outputs": [],
   "source": [
    "log.setLevel(logging.INFO)\n",
    "/draw_bar_xls config \\\n",
    "               CRU_FILE ETA_FILE \"pre\" \"prec\" \\\n",
    "               pth.join(SHP_DIR PARAGUAY_SHP_URL) \\\n",
    "               OUTPUT_BAR \"%(HASC_1)s\" \"%(NAME_1)s\" 1 \"Paraguay\"\n",
    "\n",
    "/draw_bar_xls config \\\n",
    "               CRU_FILE ETA_FILE \"tmp\" \"tp2m\" \\\n",
    "               pth.join(SHP_DIR PARAGUAY_SHP_URL) \\\n",
    "               OUTPUT_BAR  \"%(HASC_1)s\" \"%(NAME_1)s\" 1 \"Paraguay\""
   ]
  }
 ],
 "metadata": {
  "kernelspec": {
   "display_name": "Python 2",
   "language": "python",
   "name": "python2"
  },
  "language_info": {
   "codemirror_mode": {
    "name": "ipython",
    "version": 2
   },
   "file_extension": ".py",
   "mimetype": "text/x-python",
   "name": "python",
   "nbconvert_exporter": "python",
   "pygments_lexer": "ipython2",
   "version": "2.7.11"
  }
 },
 "nbformat": 4,
 "nbformat_minor": 0
}
