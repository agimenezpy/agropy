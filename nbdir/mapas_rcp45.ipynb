{
 "cells": [
  {
   "cell_type": "code",
   "execution_count": null,
   "metadata": {
    "collapsed": false
   },
   "outputs": [],
   "source": [
    "%%javascript\n",
    "\n",
    "$([IPython.events]).on('kernel_ready.Kernel', function(){\n",
    "    IPython.notebook.execute_cell_range(1, 2)\n",
    "});"
   ]
  },
  {
   "cell_type": "code",
   "execution_count": 1,
   "metadata": {
    "collapsed": false
   },
   "outputs": [
    {
     "name": "stdout",
     "output_type": "stream",
     "text": [
      "Python 2.7.11 |Continuum Analytics, Inc.| (default, Dec  6 2015, 18:08:32) \n",
      "[GCC 4.4.7 20120313 (Red Hat 4.4.7-1)] on linux2\n"
     ]
    }
   ],
   "source": [
    "import init\n",
    "from proceso import SHP_DIR, OUTPUT_DIR, ROOT_DIR, ETA_20K\n",
    "import os\n",
    "from os import path as pth\n",
    "from climatepy.scenario.maps import draw_base, draw_compare_base\n",
    "from climatepy.scenario.geo import PARAGUAY\n",
    "from climatepy.scenario import REMOTE_URL\n",
    "import logging\n",
    "\n",
    "log = logging.getLogger()\n",
    "\n",
    "OUTPUT_DIR = pth.join(OUTPUT_DIR, \"RCP45\", \"mapas\")\n",
    "OUTPUT_CMP = pth.join(OUTPUT_DIR, \"comparacion\")\n",
    "if not pth.exists(OUTPUT_DIR):\n",
    "    os.makedirs(OUTPUT_DIR)\n",
    "\n",
    "if not pth.exists(OUTPUT_CMP):\n",
    "    os.makedirs(OUTPUT_CMP)\n",
    "    \n",
    "config = pth.join(ROOT_DIR, \"proceso\", \"map_config.ini\")\n",
    "prec_ds_y = \"Anual/Prec/Eta_HG2ES_RCP45_20km_Prec_Anual_template.ctl\"\n",
    "temp_ds_y = \"Anual/Temp/Eta_HG2ES_RCP45_20km_Temp_Anual_template.ctl\"\n",
    "paraguay_shp = \"Mapas_Generales/Division-Adminsitrativa-Nueva/Paraguay_Division_Administrativa/PRY_adm1.shp\"\n",
    "cru_prec = REMOTE_URL + \"cru/cru_pre_clim_1961-1990.nc\"\n",
    "cru_tmp = REMOTE_URL + \"cru/cru_tmp_clim_1961-1990.nc\""
   ]
  },
  {
   "cell_type": "code",
   "execution_count": null,
   "metadata": {
    "collapsed": false
   },
   "outputs": [],
   "source": [
    "# Correr base 1961 - 1990 Precipitacion\n",
    "log.setLevel(logging.DEBUG)\n",
    "/draw_base config pth.join(ETA_20K prec_ds_y) PARAGUAY 1961 1990 \\\n",
    "               pth.join(SHP_DIR paraguay_shp) \"Paraguay\" \\\n",
    "               OUTPUT_DIR"
   ]
  },
  {
   "cell_type": "code",
   "execution_count": null,
   "metadata": {
    "collapsed": false
   },
   "outputs": [],
   "source": [
    "# Correr CRU base 1961 - 1990 Precipitacion\n",
    "log.setLevel(logging.DEBUG)\n",
    "/draw_base config cru_prec PARAGUAY 1961 1990 \\\n",
    "               pth.join(SHP_DIR paraguay_shp) \"Paraguay\" \\\n",
    "               OUTPUT_DIR pth.join(ETA_20K prec_ds_y)"
   ]
  },
  {
   "cell_type": "code",
   "execution_count": null,
   "metadata": {
    "collapsed": false
   },
   "outputs": [],
   "source": [
    "# Correr Anomalia Precipitacion\n",
    "log.setLevel(logging.DEBUG)\n",
    "/draw_compare_base config cru_prec pth.join(ETA_20K prec_ds_y) PARAGUAY 1961 1990 \\\n",
    "               pth.join(SHP_DIR paraguay_shp) \"Paraguay\" \\\n",
    "               OUTPUT_CMP"
   ]
  },
  {
   "cell_type": "code",
   "execution_count": null,
   "metadata": {
    "collapsed": false
   },
   "outputs": [],
   "source": [
    "# Correr base 1961 - 1990 Temperatura\n",
    "log.setLevel(logging.DEBUG)\n",
    "/draw_base config pth.join(ETA_20K temp_ds_y) PARAGUAY 1961 1990 \\\n",
    "               pth.join(SHP_DIR paraguay_shp) \"Paraguay\" \\\n",
    "               OUTPUT_DIR"
   ]
  },
  {
   "cell_type": "code",
   "execution_count": null,
   "metadata": {
    "collapsed": false
   },
   "outputs": [],
   "source": [
    "# Correr CRU base 1961 - 1990 Temperatura\n",
    "log.setLevel(logging.DEBUG)\n",
    "/draw_base config cru_tmp PARAGUAY 1961 1990 \\\n",
    "               pth.join(SHP_DIR paraguay_shp) \"Paraguay\" \\\n",
    "               OUTPUT_DIR pth.join(ETA_20K temp_ds_y)"
   ]
  },
  {
   "cell_type": "code",
   "execution_count": null,
   "metadata": {
    "collapsed": false
   },
   "outputs": [],
   "source": [
    "# Correr Anomalia Temperatura\n",
    "log.setLevel(logging.DEBUG)\n",
    "/draw_compare_base config cru_tmp pth.join(ETA_20K temp_ds_y) PARAGUAY 1961 1990 \\\n",
    "               pth.join(SHP_DIR paraguay_shp) \"Paraguay\" \\\n",
    "               OUTPUT_CMP"
   ]
  }
 ],
 "metadata": {
  "kernelspec": {
   "display_name": "Python 2",
   "language": "python",
   "name": "python2"
  },
  "language_info": {
   "codemirror_mode": {
    "name": "ipython",
    "version": 2.0
   },
   "file_extension": ".py",
   "mimetype": "text/x-python",
   "name": "python",
   "nbconvert_exporter": "python",
   "pygments_lexer": "ipython2",
   "version": "2.7.11"
  }
 },
 "nbformat": 4,
 "nbformat_minor": 0
}