{
 "cells": [
  {
   "cell_type": "code",
   "execution_count": null,
   "metadata": {
    "collapsed": false
   },
   "outputs": [],
   "source": [
    "%%javascript\n",
    "\n",
    "$([IPython.events]).on('kernel_ready.Kernel', function(){\n",
    "    IPython.notebook.execute_cell_range(1, 2)\n",
    "});"
   ]
  },
  {
   "cell_type": "code",
   "execution_count": null,
   "metadata": {
    "collapsed": false
   },
   "outputs": [],
   "source": [
    "import init\n",
    "import os\n",
    "import logging\n",
    "from climatepy.scenario.export_csv import export_to\n",
    "from climatepy.util.shapes import create_masks\n",
    "from climatepy.scenario.export_xls import create_yearly_xls\n",
    "from climatepy.scenario.geo import PARAGUAY\n",
    "from proceso import SHP_DIR, OUTPUT_DIR, RCP_45, RCP_85, RCP_45_URL, RCP_85_URL, PARAGUAY_SHP_URL\n",
    "\n",
    "from os import path as pth\n",
    "\n",
    "log = logging.getLogger()\n",
    "\n",
    "prec_ds_y4 = RCP_45_URL[0][1]\n",
    "prec_ds_y8 = RCP_85_URL[0][1]\n",
    "temp_ds_y4 = RCP_45_URL[1][1]\n",
    "temp_ds_y8 = RCP_85_URL[1][1]\n",
    "paraguay_shp = PARAGUAY_SHP_URL\n",
    "OUTPUT_DIR4 = pth.join(OUTPUT_DIR, \"PARAGUAY\", \"RCP4.5\")\n",
    "if not pth.exists(OUTPUT_DIR4):\n",
    "    os.mkdir(OUTPUT_DIR4)\n",
    "OUTPUT_DIR8 = pth.join(OUTPUT_DIR, \"PARAGUAY\", \"RCP8.5\")\n",
    "if not pth.exists(OUTPUT_DIR8):\n",
    "    os.mkdir(OUTPUT_DIR8)"
   ]
  },
  {
   "cell_type": "code",
   "execution_count": null,
   "metadata": {
    "collapsed": false
   },
   "outputs": [],
   "source": [
    "# Crear mascaras Paraguay\n",
    "log.setLevel(logging.DEBUG)\n",
    "/create_masks pth.join(RCP_45 prec_ds) \\\n",
    "              pth.join(SHP_DIR paraguay_shp) \\\n",
    "              PARAGUAY \"%(CODIGO)s\" 0.2"
   ]
  },
  {
   "cell_type": "code",
   "execution_count": null,
   "metadata": {
    "collapsed": false
   },
   "outputs": [],
   "source": [
    "# Exportar anual precipitacion 4.5\n",
    "log.setLevel(logging.INFO)\n",
    "/export_to pth.join(RCP_45 prec_ds_y4) \\\n",
    "           pth.join(SHP_DIR paraguay_shp)  \\\n",
    "           pth.join(OUTPUT_DIR4 \"anual_prec_py_dist.csv\")  \\\n",
    "           \"prec\" 2050 PARAGUAY \"%(CODIGO)s\" 0.2 12"
   ]
  },
  {
   "cell_type": "code",
   "execution_count": null,
   "metadata": {
    "collapsed": false
   },
   "outputs": [],
   "source": [
    "# Exportar anual precipitacion 8.5\n",
    "log.setLevel(logging.INFO)\n",
    "/export_to pth.join(RCP_85 prec_ds_y8) \\\n",
    "           pth.join(SHP_DIR paraguay_shp)  \\\n",
    "           pth.join(OUTPUT_DIR8 \"anual_prec_py_dist.csv\")  \\\n",
    "           \"prec\" 2050 PARAGUAY \"%(CODIGO)s\" 0.2 12"
   ]
  },
  {
   "cell_type": "code",
   "execution_count": null,
   "metadata": {
    "collapsed": false
   },
   "outputs": [],
   "source": [
    "# Exportar anual temperatura 4.5\n",
    "log.setLevel(logging.INFO)\n",
    "/export_to pth.join(RCP_45 temp_ds_y4) \\\n",
    "           pth.join(SHP_DIR paraguay_shp)  \\\n",
    "           pth.join(OUTPUT_DIR4 \"anual_temp_py_dist.csv\")  \\\n",
    "           \"tp2m\" 2050 PARAGUAY \"%(CODIGO)s\" 0.2"
   ]
  },
  {
   "cell_type": "code",
   "execution_count": null,
   "metadata": {
    "collapsed": false
   },
   "outputs": [],
   "source": [
    "# Exportar anual temperatura 8.5\n",
    "log.setLevel(logging.INFO)\n",
    "/export_to pth.join(RCP_85 temp_ds_y8) \\\n",
    "           pth.join(SHP_DIR paraguay_shp)  \\\n",
    "           pth.join(OUTPUT_DIR8 \"anual_temp_py_dist.csv\")  \\\n",
    "           \"tp2m\" 2050 PARAGUAY \"%(CODIGO)s\" 0.2"
   ]
  },
  {
   "cell_type": "code",
   "execution_count": null,
   "metadata": {
    "collapsed": false
   },
   "outputs": [],
   "source": [
    "log.setLevel(logging.INFO)\n",
    "/create_yearly_xls pth.join(OUTPUT_DIR4 \"anual_prec_py_dist.csv\") \\\n",
    "                   pth.join(SHP_DIR paraguay_shp) \\\n",
    "                   OUTPUT_DIR4 \"%(CODIGO)s\" \"%(CODIGO)s %(DPTO_DESC)s %(DIST_DESC)s\" False\n",
    "/create_yearly_xls pth.join(OUTPUT_DIR4 \"anual_temp_py_dist.csv\") \\\n",
    "                   pth.join(SHP_DIR paraguay_shp) \\\n",
    "                   OUTPUT_DIR4 \"%(CODIGO)s\" \"%(CODIGO)s %(DPTO_DESC)s %(DIST_DESC)s\" False"
   ]
  },
  {
   "cell_type": "code",
   "execution_count": null,
   "metadata": {
    "collapsed": true
   },
   "outputs": [],
   "source": [
    "log.setLevel(logging.INFO)\n",
    "/create_yearly_xls pth.join(OUTPUT_DIR8 \"anual_prec_py_dist.csv\") \\\n",
    "                   pth.join(SHP_DIR paraguay_shp) \\\n",
    "                   OUTPUT_DIR8 \"%(CODIGO)s\" \"%(CODIGO)s %(DPTO_DESC)s %(DIST_DESC)s\" False\n",
    "/create_yearly_xls pth.join(OUTPUT_DIR8 \"anual_temp_py_dist.csv\") \\\n",
    "                   pth.join(SHP_DIR paraguay_shp) \\\n",
    "                   OUTPUT_DIR8 \"%(CODIGO)s\" \"%(CODIGO)s %(DPTO_DESC)s %(DIST_DESC)s\" False"
   ]
  }
 ],
 "metadata": {
  "kernelspec": {
   "display_name": "Python 2",
   "language": "python",
   "name": "python2"
  },
  "language_info": {
   "codemirror_mode": {
    "name": "ipython",
    "version": 2
   },
   "file_extension": ".py",
   "mimetype": "text/x-python",
   "name": "python",
   "nbconvert_exporter": "python",
   "pygments_lexer": "ipython2",
   "version": "2.7.11"
  }
 },
 "nbformat": 4,
 "nbformat_minor": 0
}
