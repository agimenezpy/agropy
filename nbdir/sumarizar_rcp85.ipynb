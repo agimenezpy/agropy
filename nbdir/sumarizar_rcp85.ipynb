{
 "cells": [
  {
   "cell_type": "code",
   "execution_count": null,
   "metadata": {
    "collapsed": false
   },
   "outputs": [],
   "source": [
    "import init\n",
    "from six import print_\n",
    "from proceso import RCP_85, M_RCP_85, OUTPUT_DIR\n",
    "from os import path as pth\n",
    "import logging\n",
    "import sys\n",
    "\n",
    "log = logging.getLogger()\n",
    "log.handlers.append(logging.StreamHandler(stream=sys.__stdout__))\n",
    "log.setLevel(logging.INFO)\n",
    "from climatepy.scenario.rcp85 import montly, montly2, yearly"
   ]
  },
  {
   "cell_type": "code",
   "execution_count": null,
   "metadata": {
    "collapsed": false
   },
   "outputs": [],
   "source": [
    "# Sumarizar datos mensuales\n",
    "print_(\"Procesando 1961 - 2005\")\n",
    "/montly RCP_85 OUTPUT_DIR 1961 2005\n"
   ]
  },
  {
   "cell_type": "code",
   "execution_count": null,
   "metadata": {
    "collapsed": false
   },
   "outputs": [],
   "source": [
    "# Sumarizar datos mensuales HADGEM\n",
    "print_(\"Procesando 2007 - 2040\")\n",
    "/montly2 RCP_85 OUTPUT_DIR 2007 2040\n",
    "\n",
    "print_(\"Procesando 2041 - 2070\")\n",
    "/montly2 RCP_85 OUTPUT_DIR 2041 2070"
   ]
  },
  {
   "cell_type": "code",
   "execution_count": null,
   "metadata": {
    "collapsed": false
   },
   "outputs": [],
   "source": [
    "# Sumarizar datos mensuales MIROC\n",
    "print_(\"Procesando 2007 - 2040\")\n",
    "/montly2 M_RCP_85 OUTPUT_DIR 2007 2040\n",
    "\n",
    "print_(\"Procesando 2041 - 2070\")\n",
    "/montly2 M_RCP_85 OUTPUT_DIR 2041 2070"
   ]
  },
  {
   "cell_type": "code",
   "execution_count": null,
   "metadata": {
    "collapsed": false
   },
   "outputs": [],
   "source": [
    "# Sumarizar datos anuales\n",
    "print_(\"Procesando 1961 - 2070\")\n",
    "/yearly RCP_85 OUTPUT_DIR 1961 2070\n"
   ]
  },
  {
   "cell_type": "code",
   "execution_count": null,
   "metadata": {
    "collapsed": false
   },
   "outputs": [],
   "source": [
    "# Sumarizar datos anuales\n",
    "print_(\"Procesando 1961 - 2070\")\n",
    "/yearly M_RCP_85 OUTPUT_DIR 1961 2070\n"
   ]
  }
 ],
 "metadata": {
  "kernelspec": {
   "display_name": "Python 2",
   "language": "python",
   "name": "python2"
  },
  "language_info": {
   "codemirror_mode": {
    "name": "ipython",
    "version": 2
   },
   "file_extension": ".py",
   "mimetype": "text/x-python",
   "name": "python",
   "nbconvert_exporter": "python",
   "pygments_lexer": "ipython2",
   "version": "2.7.11"
  }
 },
 "nbformat": 4,
 "nbformat_minor": 0
}
