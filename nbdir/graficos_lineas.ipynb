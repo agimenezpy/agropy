{
 "cells": [
  {
   "cell_type": "code",
   "execution_count": 1,
   "metadata": {
    "collapsed": false
   },
   "outputs": [
    {
     "name": "stdout",
     "output_type": "stream",
     "text": [
      "Python 2.7.11 |Continuum Analytics, Inc.| (default, Jun 15 2016, 15:38:08) [MSC v.1500 32 bit (Intel)] on win32\n"
     ]
    }
   ],
   "source": [
    "import init\n",
    "from proceso import SHP_DIR, OUTPUT_DIR, ROOT_DIR\n",
    "import os\n",
    "from os import path as pth\n",
    "from climatepy.scenario.graph import draw_line_asc\n",
    "import logging\n",
    "\n",
    "log = logging.getLogger()\n",
    "\n",
    "CSV_DIR4 = pth.join(OUTPUT_DIR, \"RCP4.5\")\n",
    "OUTPUT_DIR4 = pth.join(OUTPUT_DIR, \"RCP4.5\", \"tendencia\")\n",
    "if not pth.exists(OUTPUT_DIR4):\n",
    "    os.makedirs(OUTPUT_DIR4)\n",
    "\n",
    "CSV_DIR8 = pth.join(OUTPUT_DIR, \"RCP8.5\")\n",
    "OUTPUT_DIR8 = pth.join(OUTPUT_DIR, \"RCP8.5\", \"tendencia\")\n",
    "if not pth.exists(OUTPUT_DIR8):\n",
    "    os.makedirs(OUTPUT_DIR8)\n",
    "config = pth.join(ROOT_DIR, \"proceso\", \"line_config.ini\")\n",
    "paraguay_shp = \"Mapas Generales/Division-Adminsitrativa-Nueva/Paraguay_Division_Administrativa/PRY_adm1.shp\""
   ]
  },
  {
   "cell_type": "code",
   "execution_count": 2,
   "metadata": {
    "collapsed": false
   },
   "outputs": [],
   "source": [
    "log.setLevel(logging.INFO)\n",
    "/draw_line_asc config \\\n",
    "               pth.join(CSV_DIR4 \"anual_prec_py.csv\") \"ETA\" \"RCP4.5\" 1961 2050 \\\n",
    "               pth.join(SHP_DIR paraguay_shp) \\\n",
    "               OUTPUT_DIR4 \"%(HASC_1)s\" \"%(NAME_1)s\" \\\n",
    "                \"prec\" 1 \"Paraguay\"\n",
    "\n",
    "/draw_line_asc config \\\n",
    "               pth.join(CSV_DIR4 \"anual_temp_py.csv\") \"ETA\" \"RCP4.5\" 1961 2050 \\\n",
    "               pth.join(SHP_DIR paraguay_shp) \\\n",
    "               OUTPUT_DIR4  \"%(HASC_1)s\" \"%(NAME_1)s\" \\\n",
    "               \"tp2m\" 1 \"Paraguay\""
   ]
  },
  {
   "cell_type": "code",
   "execution_count": 2,
   "metadata": {
    "collapsed": false
   },
   "outputs": [],
   "source": [
    "log.setLevel(logging.INFO)\n",
    "/draw_line_asc config \\\n",
    "               pth.join(CSV_DIR8 \"anual_prec_py.csv\") \"ETA\" \"RCP8.5\" 1961 2050 \\\n",
    "               pth.join(SHP_DIR paraguay_shp) \\\n",
    "               OUTPUT_DIR8 \"%(HASC_1)s\" \"%(NAME_1)s\" \\\n",
    "                \"prec\" 1 \"Paraguay\"\n",
    "\n",
    "/draw_line_asc config \\\n",
    "               pth.join(CSV_DIR8 \"anual_temp_py.csv\") \"ETA\" \"RCP8.5\" 1961 2050 \\\n",
    "               pth.join(SHP_DIR paraguay_shp) \\\n",
    "               OUTPUT_DIR8  \"%(HASC_1)s\" \"%(NAME_1)s\" \\\n",
    "               \"tp2m\" 1 \"Paraguay\""
   ]
  }
 ],
 "metadata": {
  "kernelspec": {
   "display_name": "Python 2",
   "language": "python",
   "name": "python2"
  },
  "language_info": {
   "codemirror_mode": {
    "name": "ipython",
    "version": 2
   },
   "file_extension": ".py",
   "mimetype": "text/x-python",
   "name": "python",
   "nbconvert_exporter": "python",
   "pygments_lexer": "ipython2",
   "version": "2.7.11"
  }
 },
 "nbformat": 4,
 "nbformat_minor": 0
}
