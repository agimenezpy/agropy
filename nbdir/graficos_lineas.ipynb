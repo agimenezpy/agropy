{
 "cells": [
  {
   "cell_type": "code",
   "execution_count": null,
   "metadata": {
    "collapsed": false
   },
   "outputs": [],
   "source": [
    "import init\n",
    "from proceso import SHP_DIR, OUTPUT_DIR, ROOT_DIR\n",
    "import os\n",
    "from os import path as pth\n",
    "from climatepy.scenario.graph import draw_line_asc\n",
    "import logging\n",
    "\n",
    "log = logging.getLogger()\n",
    "\n",
    "CSV_DIR = pth.join(OUTPUT_DIR, \"RCP45\")\n",
    "OUTPUT_DIR = pth.join(OUTPUT_DIR, \"RCP45\", \"tendencia\")\n",
    "if not pth.exists(OUTPUT_DIR):\n",
    "    os.makedirs(OUTPUT_DIR)\n",
    "config = pth.join(ROOT_DIR, \"proceso\", \"line_config.ini\")\n",
    "paraguay_shp = \"Mapas_Generales/Division-Adminsitrativa-Nueva/Paraguay_Division_Administrativa/PRY_adm1.shp\""
   ]
  },
  {
   "cell_type": "code",
   "execution_count": 7,
   "metadata": {
    "collapsed": false
   },
   "outputs": [
    {
     "ename": "NameError",
     "evalue": "name 'log' is not defined",
     "output_type": "error",
     "traceback": [
      "\u001b[1;31m---------------------------------------------------------------------------\u001b[0m",
      "\u001b[1;31mNameError\u001b[0m                                 Traceback (most recent call last)",
      "\u001b[1;32m<ipython-input-7-bc27a41b1fa5>\u001b[0m in \u001b[0;36m<module>\u001b[1;34m()\u001b[0m\n\u001b[1;32m----> 1\u001b[1;33m \u001b[0mlog\u001b[0m\u001b[1;33m.\u001b[0m\u001b[0msetLevel\u001b[0m\u001b[1;33m(\u001b[0m\u001b[0mlogging\u001b[0m\u001b[1;33m.\u001b[0m\u001b[0mINFO\u001b[0m\u001b[1;33m)\u001b[0m\u001b[1;33m\u001b[0m\u001b[0m\n\u001b[0m\u001b[0;32m      2\u001b[0m \u001b[0mdraw_line_asc\u001b[0m\u001b[1;33m(\u001b[0m\u001b[0mconfig\u001b[0m\u001b[1;33m,\u001b[0m \u001b[0mpth\u001b[0m\u001b[1;33m.\u001b[0m\u001b[0mjoin\u001b[0m\u001b[1;33m(\u001b[0m\u001b[0mCSV_DIR\u001b[0m\u001b[1;33m,\u001b[0m \u001b[1;34m\"anual_prec_py.csv\"\u001b[0m\u001b[1;33m)\u001b[0m\u001b[1;33m,\u001b[0m \u001b[1;34m\"ETA\"\u001b[0m\u001b[1;33m,\u001b[0m \u001b[1;34m\"RCP45\"\u001b[0m\u001b[1;33m,\u001b[0m \u001b[1;36m1961\u001b[0m\u001b[1;33m,\u001b[0m \u001b[1;36m2050\u001b[0m\u001b[1;33m,\u001b[0m \u001b[0mpth\u001b[0m\u001b[1;33m.\u001b[0m\u001b[0mjoin\u001b[0m\u001b[1;33m(\u001b[0m\u001b[0mSHP_DIR\u001b[0m\u001b[1;33m,\u001b[0m \u001b[0mparaguay_shp\u001b[0m\u001b[1;33m)\u001b[0m\u001b[1;33m,\u001b[0m \u001b[0mOUTPUT_DIR\u001b[0m\u001b[1;33m,\u001b[0m \u001b[1;34m\"%(HASC_1)s\"\u001b[0m\u001b[1;33m,\u001b[0m \u001b[1;34m\"%(NAME_1)s\"\u001b[0m\u001b[1;33m,\u001b[0m \u001b[1;34m\"prec\"\u001b[0m\u001b[1;33m,\u001b[0m \u001b[1;36m1\u001b[0m\u001b[1;33m,\u001b[0m \u001b[1;34m\"Paraguay\"\u001b[0m\u001b[1;33m)\u001b[0m\u001b[1;33m\u001b[0m\u001b[0m\n\u001b[0;32m      3\u001b[0m \u001b[1;33m\u001b[0m\u001b[0m\n\u001b[0;32m      4\u001b[0m \u001b[0mdraw_line_asc\u001b[0m\u001b[1;33m(\u001b[0m\u001b[0mconfig\u001b[0m\u001b[1;33m,\u001b[0m \u001b[0mpth\u001b[0m\u001b[1;33m.\u001b[0m\u001b[0mjoin\u001b[0m\u001b[1;33m(\u001b[0m\u001b[0mCSV_DIR\u001b[0m\u001b[1;33m,\u001b[0m \u001b[1;34m\"anual_temp_py.csv\"\u001b[0m\u001b[1;33m)\u001b[0m\u001b[1;33m,\u001b[0m \u001b[1;34m\"ETA\"\u001b[0m\u001b[1;33m,\u001b[0m \u001b[1;34m\"RCP45\"\u001b[0m\u001b[1;33m,\u001b[0m \u001b[1;36m1961\u001b[0m\u001b[1;33m,\u001b[0m \u001b[1;36m2050\u001b[0m\u001b[1;33m,\u001b[0m \u001b[0mpth\u001b[0m\u001b[1;33m.\u001b[0m\u001b[0mjoin\u001b[0m\u001b[1;33m(\u001b[0m\u001b[0mSHP_DIR\u001b[0m\u001b[1;33m,\u001b[0m \u001b[0mparaguay_shp\u001b[0m\u001b[1;33m)\u001b[0m\u001b[1;33m,\u001b[0m \u001b[0mOUTPUT_DIR\u001b[0m\u001b[1;33m,\u001b[0m \u001b[1;34m\"%(HASC_1)s\"\u001b[0m\u001b[1;33m,\u001b[0m \u001b[1;34m\"%(NAME_1)s\"\u001b[0m\u001b[1;33m,\u001b[0m \u001b[1;34m\"tp2m\"\u001b[0m\u001b[1;33m,\u001b[0m \u001b[1;36m1\u001b[0m\u001b[1;33m,\u001b[0m \u001b[1;34m\"Paraguay\"\u001b[0m\u001b[1;33m)\u001b[0m\u001b[1;33m\u001b[0m\u001b[0m\n",
      "\u001b[1;31mNameError\u001b[0m: name 'log' is not defined"
     ]
    }
   ],
   "source": [
    "log.setLevel(logging.INFO)\n",
    "/draw_line_asc config \\\n",
    "               pth.join(CSV_DIR \"anual_prec_py.csv\") \"ETA\" \"RCP45\" 1961 2050 \\\n",
    "               pth.join(SHP_DIR paraguay_shp) \\\n",
    "               OUTPUT_DIR \"%(HASC_1)s\" \"%(NAME_1)s\" \\\n",
    "                \"prec\" 1 \"Paraguay\"\n",
    "\n",
    "/draw_line_asc config \\\n",
    "               pth.join(CSV_DIR \"anual_temp_py.csv\") \"ETA\" \"RCP45\" 1961 2050 \\\n",
    "               pth.join(SHP_DIR paraguay_shp) \\\n",
    "               OUTPUT_DIR  \"%(HASC_1)s\" \"%(NAME_1)s\" \\\n",
    "               \"tp2m\" 1 \"Paraguay\""
   ]
  },
  {
   "cell_type": "code",
   "execution_count": null,
   "metadata": {
    "collapsed": true
   },
   "outputs": [],
   "source": []
  }
 ],
 "metadata": {
  "kernelspec": {
   "display_name": "Python 2",
   "language": "python",
   "name": "python2"
  },
  "language_info": {
   "codemirror_mode": {
    "name": "ipython",
    "version": 2
   },
   "file_extension": ".py",
   "mimetype": "text/x-python",
   "name": "python",
   "nbconvert_exporter": "python",
   "pygments_lexer": "ipython2",
   "version": "2.7.11"
  }
 },
 "nbformat": 4,
 "nbformat_minor": 0
}
